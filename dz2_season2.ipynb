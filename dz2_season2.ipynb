{
 "cells": [
  {
   "cell_type": "code",
   "execution_count": null,
   "id": "53182d6e",
   "metadata": {},
   "outputs": [],
   "source": [
    "import pandas as pd\n",
    "from sklearn.linear_model import LinearRegression\n",
    "\n",
    "# загрузить базу спортсменов из csv файла\n",
    "df = pd.read_csv(r'Documents\\data\\athletes_sochi.csv')\n",
    "\n",
    "# выбрать нужные столбцы\n",
    "df = df[['age', 'height', 'weight', 'silver_medals']]\n",
    "\n",
    "# удалить строки, в которых есть пропущенные значения\n",
    "df = df.dropna()\n",
    "\n",
    "# определить правильные ответы\n",
    "y_true = df['silver_medals']\n",
    "\n",
    "# определить признаки\n",
    "X = df[['age', 'height', 'weight']]\n",
    "\n",
    "# создать объект линейной регрессии\n",
    "lr = LinearRegression()\n",
    "\n",
    "# обучить модель на тренировочных данных\n",
    "lr.fit(X, y_true)\n",
    "\n",
    "# предсказать значения на тестовых данных\n",
    "y_pred = lr.predict(X)\n",
    "\n",
    "# рассчитать accuracy\n",
    "accuracy = sum(y_true == y_pred.round()) / len(y_true) * 100\n",
    "print(f\"Accuracy: {accuracy:.2f}%\")\n"
   ]
  },
  {
   "cell_type": "code",
   "execution_count": null,
   "id": "264408d6",
   "metadata": {},
   "outputs": [],
   "source": []
  }
 ],
 "metadata": {
  "kernelspec": {
   "display_name": "Python 3 (ipykernel)",
   "language": "python",
   "name": "python3"
  },
  "language_info": {
   "codemirror_mode": {
    "name": "ipython",
    "version": 3
   },
   "file_extension": ".py",
   "mimetype": "text/x-python",
   "name": "python",
   "nbconvert_exporter": "python",
   "pygments_lexer": "ipython3",
   "version": "3.10.8"
  }
 },
 "nbformat": 4,
 "nbformat_minor": 5
}
