{
 "cells": [
  {
   "cell_type": "code",
   "execution_count": 5,
   "id": "6ec645bb",
   "metadata": {},
   "outputs": [
    {
     "name": "stdout",
     "output_type": "stream",
     "text": [
      "2.0\n",
      "4.0\n"
     ]
    }
   ],
   "source": [
    "# 1 Напишите функцию, извлекающую корень n-й степени из числа x. По умолчанию def будет извлекать квадратный корень:\n",
    "\n",
    "def root(x, n = 2):\n",
    "    return pow(x, 1/n)\n",
    "    \n",
    "print(root(4))\n",
    "\n",
    "print(root(16, 2))"
   ]
  },
  {
   "cell_type": "code",
   "execution_count": 76,
   "id": "c3763537",
   "metadata": {},
   "outputs": [
    {
     "name": "stdout",
     "output_type": "stream",
     "text": [
      "Допустимое расширение\n"
     ]
    }
   ],
   "source": [
    "# 2 Перепишите ваш код для проверки расширения из прошлого ДЗ в функцию которая принимает список расширений и имя файла\n",
    "\n",
    "def checker(file, extensions):\n",
    "    fileSplit = file.split(\".\")\n",
    "    extension = fileSplit[len(fileSplit)-1]\n",
    "    if extension in extensions:\n",
    "        print(\"Допустимое расширение\")\n",
    "    else:\n",
    "        print(\"Недопустимое расширение\")\n",
    "        \n",
    "file='АБВ.svg'\n",
    "extensions = ['png', 'jpg', 'jpeg', 'gif', 'svg']\n",
    "checker(file, extensions)"
   ]
  },
  {
   "cell_type": "code",
   "execution_count": 12,
   "id": "a4365a45",
   "metadata": {},
   "outputs": [
    {
     "name": "stdout",
     "output_type": "stream",
     "text": [
      "{12: 1, 11: 2, 13: 7, 14: 22, 50: 'misis', 6: 'python'}\n"
     ]
    }
   ],
   "source": [
    "# 3 Слейте воедино три словаря\n",
    "\n",
    "slovar_1 = {12:1, 11:2}\n",
    "slovar_2 = {13:7, 14:22}\n",
    "slovar_3 = {50:\"misis\", 6:\"python\"}\n",
    "slovar_sum = slovar_1 | slovar_2 | slovar_3\n",
    "print(slovar_sum)"
   ]
  },
  {
   "cell_type": "code",
   "execution_count": 28,
   "id": "ae702b37",
   "metadata": {},
   "outputs": [
    {
     "data": {
      "text/plain": [
       "9"
      ]
     },
     "execution_count": 28,
     "metadata": {},
     "output_type": "execute_result"
    }
   ],
   "source": [
    "# 4 Напишите функцию которая будет складывать цифры внутри числа\n",
    "\n",
    "\n",
    "def sumn(num):\n",
    "    sum = 0\n",
    "    while (num != 0):\n",
    "        sum = sum + num % 10\n",
    "        num = num // 10\n",
    "    return (sum)\n",
    "sumn(117)"
   ]
  },
  {
   "cell_type": "code",
   "execution_count": 29,
   "id": "276d054a",
   "metadata": {},
   "outputs": [
    {
     "name": "stdout",
     "output_type": "stream",
     "text": [
      "В последовательности есть повторяющиеся числа\n"
     ]
    }
   ],
   "source": [
    "# 5 Нужно проверить, все ли числа в последовательности уникальны.\n",
    "\n",
    "num = [1,1,2,3,44,44,15]\n",
    "\n",
    "if len(num)==len(set(num)):\n",
    "    print (\"Все числа в последовательности уникальны\")\n",
    "else:\n",
    "    print (\"В последовательности есть повторяющиеся числа\")"
   ]
  },
  {
   "cell_type": "code",
   "execution_count": 33,
   "id": "d595eaa2",
   "metadata": {},
   "outputs": [
    {
     "name": "stdout",
     "output_type": "stream",
     "text": [
      "номер 0 --> я\n",
      "номер 1 --> очень\n",
      "номер 2 --> долго\n",
      "номер 3 --> делаю\n",
      "номер 4 --> домашки\n",
      "номер 5 --> по\n",
      "номер 6 --> питону\n"
     ]
    }
   ],
   "source": [
    "#  6 Создать функцию, которая просто печатает все элементы заданного ей списка:\n",
    "\n",
    "#     КЛЮЧ <> --> ЗНАЧЕНИЕ\n",
    "#     КЛЮЧ <> --> ЗНАЧЕНИЕ\n",
    "# J, K — ключи словарика\n",
    "\n",
    "def list(my_list):\n",
    "    for i in my_list:\n",
    "        ord = my_list.index(i)\n",
    "        print(f\"номер {ord} --> {i}\")\n",
    "\n",
    "\n",
    "list([\"я\", \"очень\", \"долго\", \"делаю\", \"домашки\", \"по\", \"питону\"])"
   ]
  },
  {
   "cell_type": "code",
   "execution_count": 54,
   "id": "6e8dc1ed",
   "metadata": {},
   "outputs": [
    {
     "name": "stdout",
     "output_type": "stream",
     "text": [
      "<<кому-то>> --> будет\n",
      "<<тяжело>> --> на\n",
      "<<зачете>> --> (мне)\n"
     ]
    }
   ],
   "source": [
    "# 7 Создать функцию, которая печатает каждый элемент словарика\n",
    "\n",
    "#  КЛЮЧ <> --> ЗНАЧЕНИЕ\n",
    "#  КЛЮЧ <> --> ЗНАЧЕНИЕ\n",
    "# J, K — ключи словарика\n",
    "\n",
    "\n",
    "\n",
    "def dictionary(my_dict):\n",
    "    for key, val in my_dict.items():\n",
    "         print(f'<<{key}>> --> {val}')\n",
    "    pass\n",
    "\n",
    "dictionary({\"кому-то\": \"будет\", \"тяжело\": \"на\", \"зачете\": \"(мне)\"})"
   ]
  },
  {
   "cell_type": "code",
   "execution_count": 85,
   "id": "9f41fa30",
   "metadata": {},
   "outputs": [
    {
     "ename": "TypeError",
     "evalue": "dict() got an unexpected keyword argument 'key1'",
     "output_type": "error",
     "traceback": [
      "\u001b[0;31m---------------------------------------------------------------------------\u001b[0m",
      "\u001b[0;31mTypeError\u001b[0m                                 Traceback (most recent call last)",
      "Cell \u001b[0;32mIn [85], line 18\u001b[0m\n\u001b[1;32m     15\u001b[0m             \u001b[38;5;28mprint\u001b[39m(i)\n\u001b[1;32m     16\u001b[0m     \u001b[38;5;28;01mpass\u001b[39;00m\n\u001b[0;32m---> 18\u001b[0m print_overlord(\u001b[38;5;28;43mdict\u001b[39;49m\u001b[43m(\u001b[49m\u001b[43mkey1\u001b[49m\u001b[38;5;241;43m=\u001b[39;49m\u001b[38;5;241;43m1\u001b[39;49m\u001b[43m,\u001b[49m\n\u001b[1;32m     19\u001b[0m \u001b[43m            \u001b[49m\u001b[43mkey2\u001b[49m\u001b[38;5;241;43m=\u001b[39;49m\u001b[43m[\u001b[49m\u001b[38;5;241;43m1\u001b[39;49m\u001b[43m,\u001b[49m\u001b[43m \u001b[49m\u001b[38;5;241;43m2\u001b[39;49m\u001b[43m,\u001b[49m\u001b[43m \u001b[49m\u001b[38;5;241;43m3\u001b[39;49m\u001b[43m,\u001b[49m\u001b[43m \u001b[49m\u001b[38;5;241;43m4\u001b[39;49m\u001b[43m]\u001b[49m\u001b[43m,\u001b[49m\u001b[43m \u001b[49m\n\u001b[1;32m     20\u001b[0m \u001b[43m            \u001b[49m\u001b[43mkey3\u001b[49m\u001b[38;5;241;43m=\u001b[39;49m\u001b[38;5;124;43m'\u001b[39;49m\u001b[38;5;124;43mHello\u001b[39;49m\u001b[38;5;124;43m'\u001b[39;49m\u001b[43m,\u001b[49m\u001b[43m \u001b[49m\n\u001b[1;32m     21\u001b[0m \u001b[43m            \u001b[49m\u001b[43mkey4\u001b[49m\u001b[38;5;241;43m=\u001b[39;49m\u001b[43m{\u001b[49m\u001b[38;5;124;43m\"\u001b[39;49m\u001b[38;5;124;43mciao\u001b[39;49m\u001b[38;5;124;43m\"\u001b[39;49m\u001b[43m:\u001b[49m\u001b[38;5;124;43m\"\u001b[39;49m\u001b[38;5;124;43mMondo\u001b[39;49m\u001b[38;5;124;43m\"\u001b[39;49m\u001b[43m,\u001b[49m\u001b[43m \u001b[49m\u001b[38;5;124;43m\"\u001b[39;49m\u001b[38;5;124;43mПривет\u001b[39;49m\u001b[38;5;124;43m\"\u001b[39;49m\u001b[43m:\u001b[49m\u001b[43m \u001b[49m\u001b[38;5;124;43m\"\u001b[39;49m\u001b[38;5;124;43mО дивный мир\u001b[39;49m\u001b[38;5;124;43m\"\u001b[39;49m\u001b[43m}\u001b[49m\u001b[43m)\u001b[49m)\n",
      "\u001b[0;31mTypeError\u001b[0m: dict() got an unexpected keyword argument 'key1'"
     ]
    }
   ],
   "source": [
    "# 8 Сделать функцию, которая использует две уже написанные функции следующим образом:\n",
    "\n",
    "# если ЗНАЧЕНИЕ это LIST --> вызывается print_list\n",
    "# если ЗНАЧЕНИЕ это DICT --> вызывается print_dict\n",
    "\n",
    "# во всех других случаях просто выводится ЗНАЧЕНИЕ\n",
    "\n",
    "def print_overlord(mydict):\n",
    "    for i in mydict.values():\n",
    "        if isinstance(i, list):\n",
    "            print_list(i)\n",
    "        elif isinstance(i, dict):\n",
    "            print_dict(i)\n",
    "        else:\n",
    "            print(i)\n",
    "    pass\n",
    "\n",
    "print_overlord(dict(key1=1,\n",
    "            key2=[1, 2, 3, 4], \n",
    "            key3='Hello', \n",
    "            key4={\"ciao\":\"Mondo\", \"Привет\": \"О дивный мир\"}))"
   ]
  },
  {
   "cell_type": "code",
   "execution_count": 78,
   "id": "700b5985",
   "metadata": {},
   "outputs": [
    {
     "name": "stdout",
     "output_type": "stream",
     "text": [
      "Фраза:  Князь Андрей несколько раз оглянулся на этот дуб проезжая по лесу как будто он чего-то ждал\n",
      "Князь\n",
      "Андрей\n",
      "несколько\n",
      "раз\n",
      "оглянулся\n",
      "на\n",
      "этот\n",
      "дуб\n",
      "проезжая\n",
      "по\n",
      "лесу\n",
      "как\n",
      "будто\n",
      "он\n",
      "чего-то\n",
      "ждал\n",
      "Всего 16 слов\n"
     ]
    }
   ],
   "source": [
    "# Сделать функцию, которая на вход получает фразу и печатает все отдельные слова из этой фразы\n",
    "# OUTPUT:\n",
    "# Word1\n",
    "# Word2\n",
    "# .\n",
    "# .\n",
    "# .\n",
    "\n",
    "# WordN\n",
    "# Number or Words: X\n",
    "\n",
    "def word_count(phrase = None):\n",
    "    spisok = []\n",
    "    print('Фраза: ', phrase)\n",
    "    for word in phrase.split():\n",
    "        spisok.append(word)\n",
    "        print(word)\n",
    "    print(f'Всего {len(spisok)} слов')\n",
    "    pass\n",
    "\n",
    "word_count('Князь Андрей несколько раз оглянулся на этот дуб проезжая по лесу как будто он чего-то ждал')"
   ]
  },
  {
   "cell_type": "code",
   "execution_count": 72,
   "id": "347f864e",
   "metadata": {},
   "outputs": [
    {
     "name": "stdout",
     "output_type": "stream",
     "text": [
      "Фраза:  Князь Андрей несколько раз оглянулся на этот дуб проезжая по лесу как будто он чего-то ждал\n",
      "Князь --- 6.58% \n",
      "Андрей --- 7.89% \n",
      "несколько --- 11.84% \n",
      "раз --- 3.95% \n",
      "оглянулся --- 11.84% \n",
      "на --- 2.63% \n",
      "этот --- 5.26% \n",
      "дуб --- 3.95% \n",
      "проезжая --- 10.53% \n",
      "по --- 2.63% \n",
      "лесу --- 5.26% \n",
      "как --- 3.95% \n",
      "будто --- 6.58% \n",
      "он --- 2.63% \n",
      "чего-то --- 9.21% \n",
      "ждал --- 5.26% \n",
      "ИТОГО 100%\n"
     ]
    }
   ],
   "source": [
    "# Модифицировать функцию из предыдущего задания так, чтобы она считала \"вес\" каждого слова, выводя в процентное соотношение во фразе для каждого слова. Проценты печатать с точностью до 2 знаков после запятой\n",
    "\n",
    "def word_count_w(phrase = None):\n",
    "    spisok = []\n",
    "    print('Фраза: ', phrase)\n",
    "    wo_space = len(phrase) - phrase.count(' ')\n",
    "    for word in phrase.split():\n",
    "        spisok.append(word)\n",
    "        weight = (len(word)/wo_space)*100\n",
    "        print(f'{word} --- {round(weight, 2)}% ')\n",
    "    print(f'ИТОГО 100%')\n",
    "    pass\n",
    "\n",
    "word_count_w('Князь Андрей несколько раз оглянулся на этот дуб проезжая по лесу как будто он чего-то ждал')"
   ]
  },
  {
   "cell_type": "code",
   "execution_count": null,
   "id": "1eb21735",
   "metadata": {},
   "outputs": [],
   "source": []
  }
 ],
 "metadata": {
  "kernelspec": {
   "display_name": "Python 3 (ipykernel)",
   "language": "python",
   "name": "python3"
  },
  "language_info": {
   "codemirror_mode": {
    "name": "ipython",
    "version": 3
   },
   "file_extension": ".py",
   "mimetype": "text/x-python",
   "name": "python",
   "nbconvert_exporter": "python",
   "pygments_lexer": "ipython3",
   "version": "3.10.8"
  }
 },
 "nbformat": 4,
 "nbformat_minor": 5
}
