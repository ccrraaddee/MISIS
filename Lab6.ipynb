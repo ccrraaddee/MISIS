{
 "cells": [
  {
   "cell_type": "markdown",
   "id": "e2730af2",
   "metadata": {},
   "source": [
    "Задача 1. Напишите программу с классом Student, в котором есть три атрибута: name, groupNumber и age. По умолчанию name = Ivan, age = 18, groupNumber = 10A. Необходимо создать пять методов: getName, getAge, getGroupNumber, setNameAge, setGroupNumber. Метод getName нужен для получения данных об имени конкретного студента, метод getAge нужен для получения данных о возрасте конкретного студента, vетод setGroupNumberнужен для получения данных о номере группы конкретного студента. Метод SetNameAge позволяет изменить данные атрибутов установленных по умолчанию, метод setGroupNumber позволяет изменить номер группы установленный по умолчанию. В программе необходимо создать пять экземпляров класса Student, установить им разные имена, возраст и номер группы."
   ]
  },
  {
   "cell_type": "code",
   "execution_count": 14,
   "id": "3ad5e46b",
   "metadata": {},
   "outputs": [],
   "source": [
    "class Student():\n",
    "    def __init__(self, name='Ivan', age=18, groupNumber='10A'):\n",
    "        self.name = name\n",
    "        self.age = age\n",
    "        self.groupNumber = groupNumber\n",
    "    \n",
    "    def __str__(self):\n",
    "        return f'ФИО: {self.name} \\nВозраст: {self.age} \\nНомер Группы: {self.groupNumber}'\n",
    "    \n",
    "    def getName(self):\n",
    "        return self.name\n",
    "    \n",
    "    def getAge(self):\n",
    "        return self.age\n",
    "    \n",
    "    def getGroupNumber(self):\n",
    "        return self.groupNumber\n",
    "    \n",
    "    def setNameAge(self, name, age):\n",
    "        self.name = name\n",
    "        self.age = age\n",
    "    \n",
    "    def setAge(self, age):\n",
    "        self.age = age\n",
    "    \n",
    "    def setGroupNumber(self, groupNumber):\n",
    "        self.groupNumber = groupNumber\n"
   ]
  },
  {
   "cell_type": "code",
   "execution_count": 13,
   "id": "44eca88c",
   "metadata": {},
   "outputs": [
    {
     "name": "stdout",
     "output_type": "stream",
     "text": [
      "ФИО: Ivan \n",
      "Возраст: 18 \n",
      "Номер Группы: 10A\n"
     ]
    }
   ],
   "source": [
    "student1 = Student()\n",
    "print(student1)\n"
   ]
  },
  {
   "cell_type": "code",
   "execution_count": 12,
   "id": "b2e8d1b6",
   "metadata": {},
   "outputs": [
    {
     "name": "stdout",
     "output_type": "stream",
     "text": [
      "ФИО: Лика \n",
      "Возраст: 22 \n",
      "Номер Группы: 100С\n"
     ]
    }
   ],
   "source": [
    "student2 = Student(\"Лика\", \"22\", \"100С\")\n",
    "print(student2)\n"
   ]
  },
  {
   "cell_type": "code",
   "execution_count": 11,
   "id": "66923bf3",
   "metadata": {},
   "outputs": [
    {
     "name": "stdout",
     "output_type": "stream",
     "text": [
      "ФИО: Лидия \n",
      "Возраст: 35 \n",
      "Номер Группы: 22-2-2\n"
     ]
    }
   ],
   "source": [
    "student3 = Student()\n",
    "student3.setNameAge(\"Лидия\", \"35\")\n",
    "student3.setGroupNumber(\"22-2-2\")\n",
    "print(student3)\n"
   ]
  },
  {
   "cell_type": "code",
   "execution_count": 10,
   "id": "130e32c2",
   "metadata": {},
   "outputs": [
    {
     "name": "stdout",
     "output_type": "stream",
     "text": [
      "ФИО: Алина \n",
      "Возраст: 24 \n",
      "Номер Группы: 22-2-1\n"
     ]
    }
   ],
   "source": [
    "student4 = Student(\"Алина\", 24, \"22-2-1\")\n",
    "print(student4)\n"
   ]
  },
  {
   "cell_type": "code",
   "execution_count": 9,
   "id": "3abd7f00",
   "metadata": {},
   "outputs": [
    {
     "name": "stdout",
     "output_type": "stream",
     "text": [
      "ФИО: Наталья \n",
      "Возраст: 18 \n",
      "Номер Группы: 10В\n"
     ]
    }
   ],
   "source": [
    "student5 = Student(\"Наталья\", 18, \"10В\")\n",
    "print(student5)"
   ]
  },
  {
   "cell_type": "markdown",
   "id": "66d0b3ea",
   "metadata": {},
   "source": [
    "Задача 2. Напишите программу с классом Car. Создайте конструктор класса Car. Создайте атрибуты класса Car — color (цвет), type (тип), year (год). Напишите пять методов. Первый — запуск автомобиля, при его вызове выводится сообщение «Автомобиль заведен». Второй — отключение автомобиля — выводит сообщение «Автомобиль заглушен». Третий — присвоение автомобилю года выпуска. Четвертый метод — присвоение автомобилю типа. Пятый — присвоение автомобилю цвета."
   ]
  },
  {
   "cell_type": "code",
   "execution_count": 27,
   "id": "a9e7deb8",
   "metadata": {},
   "outputs": [
    {
     "name": "stdout",
     "output_type": "stream",
     "text": [
      "белая ab 2016\n",
      "Автомобиль заведен\n",
      "Автомобиль заглушен\n"
     ]
    }
   ],
   "source": [
    "class Car():\n",
    "    \n",
    "    def __init__(self, colour, type, year):\n",
    "        self.engine_on = False\n",
    "        self.year = year\n",
    "        self.type = type\n",
    "        self.colour = colour\n",
    "\n",
    "    def is_on(self):\n",
    "        print(\"Автомобиль заведен\")\n",
    "    def is_off(self):\n",
    "        print(\"Автомобиль заглушен\")\n",
    "    def caryear(self, year):\n",
    "        self.year = year\n",
    "    def cartype(self, type):\n",
    "        self.type=type\n",
    "    def carcolour(self, colour):\n",
    "        self.colour=colour\n",
    "\n",
    "car1 = Car(\"черная\",\"abc\", 2015)\n",
    "car1.caryear(2016)\n",
    "car1.cartype(\"ab\")\n",
    "car1.carcolour(\"белая\")\n",
    "print(car1.colour, car1.type, car1.year)\n",
    "car1.is_on()\n",
    "car1.is_off()"
   ]
  },
  {
   "cell_type": "markdown",
   "id": "5f7c2c4e",
   "metadata": {},
   "source": [
    "Задача 3. Допишите функцию Nutrion"
   ]
  },
  {
   "cell_type": "code",
   "execution_count": null,
   "id": "0a1d776e",
   "metadata": {},
   "outputs": [],
   "source": [
    "class NutritionInfo:\n",
    "    def __init__(self, proteins, carbs, fats):\n",
    "        self.proteins = proteins\n",
    "        self.carbs = carbs\n",
    "        self.fats = fats\n",
    "    \n",
    "    def __add__(self, other):\n",
    "        return NutritionInfo(self.proteins + other.proteins, self.carbs + other.carbs, self.fats + other.fats)\n",
    "    \n",
    "    def __str__(self):\n",
    "        return f\"Nutrition p {self.proteins}, c {self.carbs}, f {self.fats}\"\n",
    "        \n",
    "    def energy(self):\n",
    "        return int(self.fats * 9 + (self.carbs + self.proteins) * 4.2)"
   ]
  },
  {
   "cell_type": "code",
   "execution_count": 34,
   "id": "8f555400",
   "metadata": {},
   "outputs": [
    {
     "name": "stdout",
     "output_type": "stream",
     "text": [
      "Nutrition p 2, c 4, f 6\n",
      "Nutrition p 0, c 50, f 0\n"
     ]
    }
   ],
   "source": [
    "class NutritionInfo:\n",
    "    \n",
    "    def __init__(self, proteins, carbs, fats):\n",
    "        self.proteins = proteins\n",
    "        self.carbs = carbs\n",
    "        self.fats = fats\n",
    "    \n",
    "    def __add__(self, other):\n",
    "        return NutritionInfo(self.proteins + other.proteins, self.carbs + other.carbs, self.fats + other.fats)\n",
    "    \n",
    "    def __mul__(self, other):\n",
    "        if type(self) == type(other):\n",
    "            return NutritionInfo(self.proteins * other.proteins, self.carbs * other.carbs, self.fats * other.fats)\n",
    "        elif type(other)==int or type(other)==float:\n",
    "            return NutritionInfo(self.proteins*other, self.carbs*other, self.fats*other)\n",
    "\n",
    "    \n",
    "    def __str__(self):\n",
    "        return f\"Nutrition p {self.proteins}, c {self.carbs}, f {self.fats}\"\n",
    "        \n",
    "    def energy(self):\n",
    "        return int(self.fats * 9 + (self.carbs + self.proteins) * 4.2)\n",
    "    \n",
    "egg = NutritionInfo(1, 2, 3)\n",
    "pastila = NutritionInfo(1, 2, 3)\n",
    "tvorog_9 = NutritionInfo(18, 3, 9)\n",
    "apple = NutritionInfo(0, 25, 0)\n",
    "\n",
    "print(egg + pastila)\n",
    "print(apple*2)"
   ]
  }
 ],
 "metadata": {
  "kernelspec": {
   "display_name": "Python 3 (ipykernel)",
   "language": "python",
   "name": "python3"
  },
  "language_info": {
   "codemirror_mode": {
    "name": "ipython",
    "version": 3
   },
   "file_extension": ".py",
   "mimetype": "text/x-python",
   "name": "python",
   "nbconvert_exporter": "python",
   "pygments_lexer": "ipython3",
   "version": "3.10.8"
  }
 },
 "nbformat": 4,
 "nbformat_minor": 5
}
