{
 "cells": [
  {
   "cell_type": "markdown",
   "id": "63736512",
   "metadata": {},
   "source": [
    "1. Выведите список файлов в указанной директории. например где у вас лежат ваши тетради Средний бал и список отстающих учеников\n",
    "In [ ]:\n",
    "Иванов О. 4\n",
    "Петров И. 3\n",
    "Дмитриев Н. 2\n",
    "Смирнова О. 4\n",
    "Керченских В. 5\n",
    "Котов Д. 2\n",
    "Бирюкова Н. 1\n",
    "Данилов П. 3\n",
    "Аранских В. 5\n",
    "Лемонов Ю. 2\n",
    "Олегова К. 4"
   ]
  },
  {
   "cell_type": "code",
   "execution_count": 16,
   "id": "9c97de40",
   "metadata": {},
   "outputs": [
    {
     "name": "stdout",
     "output_type": "stream",
     "text": [
      "Список всех учеников:\n",
      "Иванов О. 4\n",
      "Петров И. 3\n",
      "Дмитриев Н. 2\n",
      "Смирнова О. 4\n",
      "Керченских В. 5\n",
      "Котов Д. 2\n",
      "Бирюкова Н. 1\n",
      "Данилов П. 3\n",
      "Аранских В. 5\n",
      "Лемонов Ю. 2\n",
      "Олегова К. 4\n",
      "Список учеников с оценками 1, 2 и 3:\n",
      "['Петров И.', 'Дмитриев Н.', 'Котов Д.', 'Бирюкова Н.', 'Данилов П.', 'Лемонов Ю.']\n",
      "Средний балл по классу:\n",
      "3.1818181818181817\n"
     ]
    }
   ],
   "source": [
    "pupils_dict = {}\n",
    "bad_list = []\n",
    "\n",
    "\n",
    "def find_mean(pupils_dict: dict):\n",
    "    mean = 0\n",
    "    for pupil in pupils_dict:\n",
    "        mean += int(pupils_dict[pupil])\n",
    "    mean /= len(pupils_dict)\n",
    "    return mean\n",
    "\n",
    "\n",
    "print('Список всех учеников:')\n",
    "with open(r'Documents/python/pupils.txt') as file:\n",
    "    for line in file:\n",
    "        print(line.strip())\n",
    "        pupil = line.strip()[:-2]\n",
    "        grade = line.strip()[-1]\n",
    "        pupils_dict[pupil] = grade\n",
    "\n",
    "for pupil in pupils_dict:\n",
    "    if pupils_dict[pupil] in ('1','2','3'):\n",
    "        bad_list.append(pupil)\n",
    "\n",
    "print('Список учеников с оценками 1, 2 и 3:')\n",
    "print(bad_list)\n",
    "print('Средний балл по классу:')\n",
    "print(find_mean(pupils_dict))\n"
   ]
  },
  {
   "cell_type": "markdown",
   "id": "f53d1abe",
   "metadata": {},
   "source": [
    "2. Посчитать количество определенных слов в файле\n",
    "In [ ]:\n",
    "Понедельник\n",
    "\tФизика (лекц.)\n",
    "\tФизика (лаб.)\n",
    "\tАлгебра (практ.)\n",
    " \n",
    "Вторник\n",
    "\tГеометрия (лекц.)\n",
    "\tФизика (практ.)\n",
    "\tФизика (лаба.)\n",
    "\tФизкультура (практик.)\n",
    "...\n",
    "In [ ]:\n",
    "print('Лекций:', lec)\n",
    "print('Практических:', pract)\n",
    "print('Лабораторных:', lab)"
   ]
  },
  {
   "cell_type": "code",
   "execution_count": 11,
   "id": "fea8a668",
   "metadata": {},
   "outputs": [],
   "source": [
    "lection = 0\n",
    "practic = 0\n",
    "labwork = 0\n",
    "with open('Documents/python/sch.txt', 'r', encoding='utf-8') as file:\n",
    "    for text in file:\n",
    "        if 'лек' in text:\n",
    "            lection += 1\n",
    "        elif 'практ' in text:\n",
    "            practic += 1\n",
    "        elif 'лаб' in text:\n",
    "            labwork += 1"
   ]
  },
  {
   "cell_type": "code",
   "execution_count": 12,
   "id": "d70765f0",
   "metadata": {},
   "outputs": [
    {
     "name": "stdout",
     "output_type": "stream",
     "text": [
      "Лекций: 2\n",
      "Практических: 3\n",
      "Лабораторных: 2\n"
     ]
    }
   ],
   "source": [
    "print('Лекций:', lection)\n",
    "print('Практических:', practic)\n",
    "print('Лабораторных:', labwork)"
   ]
  },
  {
   "cell_type": "markdown",
   "id": "5120aae8",
   "metadata": {},
   "source": [
    "4. Выведите список файлов в указанной директории. например где у вас лежат ваши тетради"
   ]
  },
  {
   "cell_type": "code",
   "execution_count": 13,
   "id": "a1577869",
   "metadata": {},
   "outputs": [
    {
     "name": "stdout",
     "output_type": "stream",
     "text": [
      "['Описание настроек стилей текста и заголовков.dotx', 'Главный документ.dotx', 'СПИСОК ИСПОЛЬЗОВАННЫХ ИСТОЧНИКОВ.dotx', 'Термины и определения.dotx']\n"
     ]
    }
   ],
   "source": [
    "import os\n",
    "dirname = \"Documents/Структура\"\n",
    "files = os.listdir(dirname)\n",
    "\n",
    "\n",
    "print(files)"
   ]
  },
  {
   "cell_type": "markdown",
   "id": "226816a1",
   "metadata": {},
   "source": [
    "5. Напишите программу, которая принимает текст и выводит два слова: наиболее часто встречающееся и самое длинное.\n",
    "Варкалось. Хливкие шорьки Пырялись по наве, И хрюкотали зелюки, Как мюмзики в мове.\n",
    "\n",
    "О, бойся Бармаглота, сын! Он так свирлеп и дик! А в глу́ше ры́мит исполин — Злопастный Брандашмыг!\n",
    "\n",
    "Но взял он меч, и взял он щит, Высоких полон дум. В глущобу путь его лежит Под дерево Тумтум.\n",
    "\n",
    "Он стал под дерево и ждёт. И вдруг граахнул гром — Летит ужасный Бармаглот И пылкает огнём!\n",
    "\n",
    "Раз-два, раз-два! Горит трава, Взы-взы — стрижает меч, Ува! Ува! И голова Барабардает с плеч!\n",
    "\n",
    "О светозарный мальчик мой! Ты победил в бою! О храброславленный герой, Хвалу тебе пою!\n",
    "\n",
    "Варкалось. Хливкие шорьки Пырялись по наве. И хрюкотали зелюки, Как мюмзики в мове."
   ]
  },
  {
   "cell_type": "code",
   "execution_count": 17,
   "id": "fb11054a",
   "metadata": {},
   "outputs": [
    {
     "name": "stdout",
     "output_type": "stream",
     "text": [
      "Введите текст: Варкалось. Хливкие шорьки Пырялись по наве, И хрюкотали зелюки, Как мюмзики в мове.  О, бойся Бармаглота, сын! Он так свирлеп и дик! А в глу́ше ры́мит исполин — Злопастный Брандашмыг!  Но взял он меч, и взял он щит, Высоких полон дум. В глущобу путь его лежит Под дерево Тумтум.  Он стал под дерево и ждёт. И вдруг граахнул гром — Летит ужасный Бармаглот И пылкает огнём!  Раз-два, раз-два! Горит трава, Взы-взы — стрижает меч, Ува! Ува! И голова Барабардает с плеч!  О светозарный мальчик мой! Ты победил в бою! О храброславленный герой, Хвалу тебе пою!  Варкалось. Хливкие шорьки Пырялись по наве. И хрюкотали зелюки, Как мюмзики в мове.\n",
      "Самое длинное слово в тексте: храброславленный\n",
      "Самое часто встречающееся слово в тексте: и\n"
     ]
    }
   ],
   "source": [
    "text = input('Введите текст: ')\n",
    "text_with_only_words = []\n",
    "word_count = 0\n",
    "\n",
    "\n",
    "def clean_text(text):\n",
    "    marks = '''!()-[]{};?@#$%:'\"\\,./^&amp;*_'''\n",
    "    for elem in marks:\n",
    "        text = text.replace(elem, '')\n",
    "    clean_text = text.lower()\n",
    "    return clean_text\n",
    "\n",
    "\n",
    "def longest_word(text):\n",
    "    words = text.split()\n",
    "    longest_word = ''\n",
    "    for word in words:\n",
    "        if len(word) > len(longest_word):\n",
    "            longest_word = word\n",
    "    return longest_word\n",
    "\n",
    "\n",
    "'''function which analyzes the text and returns the most common word'''\n",
    "\n",
    "\n",
    "def common_word(text):\n",
    "    words = text.split()\n",
    "    word_count = 0\n",
    "    for word in words:\n",
    "        if words.count(word) > word_count:\n",
    "            word_count = words.count(word)\n",
    "            most_common_word = word\n",
    "    return most_common_word\n",
    "\n",
    "\n",
    "clear_text = clean_text(text)\n",
    "print(f'Самое длинное слово в тексте: {longest_word(clear_text)}')\n",
    "print(f'Самое часто встречающееся слово в тексте:', common_word(clear_text))"
   ]
  }
 ],
 "metadata": {
  "kernelspec": {
   "display_name": "Python 3 (ipykernel)",
   "language": "python",
   "name": "python3"
  },
  "language_info": {
   "codemirror_mode": {
    "name": "ipython",
    "version": 3
   },
   "file_extension": ".py",
   "mimetype": "text/x-python",
   "name": "python",
   "nbconvert_exporter": "python",
   "pygments_lexer": "ipython3",
   "version": "3.10.8"
  }
 },
 "nbformat": 4,
 "nbformat_minor": 5
}
