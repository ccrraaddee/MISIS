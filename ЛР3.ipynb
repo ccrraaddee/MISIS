{
 "cells": [
  {
   "cell_type": "code",
   "execution_count": 36,
   "id": "b0f190ec",
   "metadata": {},
   "outputs": [
    {
     "name": "stdout",
     "output_type": "stream",
     "text": [
      "Введите номер месяца: 5\n",
      "Май\n"
     ]
    }
   ],
   "source": [
    "#задача 1 \n",
    "month = int(input('Введите номер месяца: '))\n",
    "if month == 1:\n",
    "    print(\"Январь\")\n",
    "elif month == 2:\n",
    "    print(\"Февраль\")\n",
    "elif month == 3:\n",
    "    print(\"Март\")\n",
    "elif month == 4:\n",
    "    print(\"Апрель\")\n",
    "elif month == 5:\n",
    "    print(\"Май\")\n",
    "elif month == 6:\n",
    "    print(\"Июнь\")\n",
    "elif month == 7:\n",
    "    print(\"Июль\")\n",
    "elif month == 8:\n",
    "    print(\"Август\")\n",
    "elif month == 9:\n",
    "    print(\"Сентябрь\")\n",
    "elif month == 10:\n",
    "    print(\"Октябрь\")\n",
    "elif month == 11:\n",
    "    print(\"Ноябрь\")\n",
    "elif month == 12:\n",
    "    print(\"Декабрь\")\n"
   ]
  },
  {
   "cell_type": "code",
   "execution_count": 12,
   "id": "2836fc03",
   "metadata": {},
   "outputs": [
    {
     "data": {
      "text/plain": [
       "4"
      ]
     },
     "execution_count": 12,
     "metadata": {},
     "output_type": "execute_result"
    }
   ],
   "source": [
    "#задача 2\n",
    "a=600\n",
    "b=1012\n",
    "import math\n",
    "math.gcd(a,b)"
   ]
  },
  {
   "cell_type": "code",
   "execution_count": 20,
   "id": "2e873f3d",
   "metadata": {},
   "outputs": [
    {
     "name": "stdout",
     "output_type": "stream",
     "text": [
      "gif\n",
      "Корректное расширение\n"
     ]
    }
   ],
   "source": [
    "#задача 3\n",
    "file='Моя диссертац.gif'\n",
    "extensions = ['png', 'jpg', 'jpeg', 'gif', 'svg']\n",
    "w = file.split(\".\")[1]\n",
    "print(w)\n",
    "checker = \"Некорректное расширение\"\n",
    "for extension in extensions:\n",
    "    if w == extension:\n",
    "        checker = \"Корректное расширение\"\n",
    "        \n",
    "print(checker)"
   ]
  },
  {
   "cell_type": "code",
   "execution_count": 39,
   "id": "03efc8fe",
   "metadata": {},
   "outputs": [
    {
     "name": "stdout",
     "output_type": "stream",
     "text": [
      "Укажите год2025\n",
      "Невисокосный\n"
     ]
    }
   ],
   "source": [
    "year = int(input('Укажите год'))\n",
    "\n",
    "if year % 400 == 0:\n",
    "    print ('Високосный')\n",
    "elif year % 100 == 0:\n",
    "    print ('Невисокосный год')\n",
    "elif year % 4 == 0:\n",
    "    print ('Високосный год')\n",
    "else:\n",
    "    print ('Невисокосный')"
   ]
  }
 ],
 "metadata": {
  "kernelspec": {
   "display_name": "Python 3 (ipykernel)",
   "language": "python",
   "name": "python3"
  },
  "language_info": {
   "codemirror_mode": {
    "name": "ipython",
    "version": 3
   },
   "file_extension": ".py",
   "mimetype": "text/x-python",
   "name": "python",
   "nbconvert_exporter": "python",
   "pygments_lexer": "ipython3",
   "version": "3.10.8"
  }
 },
 "nbformat": 4,
 "nbformat_minor": 5
}
